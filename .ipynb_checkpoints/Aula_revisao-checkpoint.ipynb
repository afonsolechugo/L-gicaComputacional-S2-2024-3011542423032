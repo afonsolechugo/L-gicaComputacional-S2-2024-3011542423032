{
 "cells": [
  {
   "cell_type": "markdown",
   "id": "713b50a2-e783-4ed2-aed4-2faca0ded97c",
   "metadata": {},
   "source": [
    "# Aula Revisão"
   ]
  },
  {
   "cell_type": "markdown",
   "id": "f7742c84-a0c3-4f95-bcb5-f99d6d80e0d1",
   "metadata": {},
   "source": [
    "Sejam as proposições: \n",
    "\n",
    "A =  Alberto é inteligente\n",
    "B = Bruna é rica\n",
    "\n",
    "Traduza para a linguagem natural as seguintes proposições:\n",
    "\n",
    "a) A ^ B ALBERTO É INTELIGENTE E BRUNA É RICA\n",
    "b) ¬A v B ALBERTO NAO É INTELIGENTE OU BRUNA É RICA\n",
    "c) A -> ¬B ALVERTO É INTELIGENTE ENTÃO MARIA NÃO É RICA\n",
    "d) ¬A <-> ¬B ALBERTO NAO É INTELIGENTE SE E SOMENTE SE BRUNA NAO FOR RICA"
   ]
  }
 ],
 "metadata": {
  "kernelspec": {
   "display_name": "Python 3 (ipykernel)",
   "language": "python",
   "name": "python3"
  },
  "language_info": {
   "codemirror_mode": {
    "name": "ipython",
    "version": 3
   },
   "file_extension": ".py",
   "mimetype": "text/x-python",
   "name": "python",
   "nbconvert_exporter": "python",
   "pygments_lexer": "ipython3",
   "version": "3.12.4"
  }
 },
 "nbformat": 4,
 "nbformat_minor": 5
}
