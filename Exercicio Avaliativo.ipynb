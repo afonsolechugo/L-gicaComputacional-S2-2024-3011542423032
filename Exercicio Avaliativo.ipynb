{
 "cells": [
  {
   "cell_type": "code",
   "execution_count": null,
   "id": "5d65a72f-d954-43f8-99a4-e60cceb2c171",
   "metadata": {},
   "outputs": [],
   "source": [
    "#Proposta: Desenvolver um algoritmo em Python que gere a tabela-verdade que demostre a propriedade do\n",
    "#Dilema Construtivo (DC) - ((𝒑→𝒒)∧(𝒓→𝒔)∧(𝒑∨𝒓))→(𝒒∨𝒔)"
   ]
  },
  {
   "cell_type": "code",
   "execution_count": 22,
   "id": "8fec5e6d-854b-4569-a819-41628e206b61",
   "metadata": {},
   "outputs": [
    {
     "name": "stdout",
     "output_type": "stream",
     "text": [
      " P | Q | R | S | (𝒑→𝒒) | (𝒓→𝒔) | (𝒑∨𝒓) | (𝒒∨𝒔) | ((𝒑→𝒒)∧(𝒓→𝒔)∧(𝒑∨𝒓)) | ((𝒑→𝒒)∧(𝒓→𝒔)∧(𝒑∨𝒓))→(𝒒∨𝒔)\n",
      " V | V | V | V |   V   |   V   |   V   |   V   |           V          |            V\n",
      " V | V | V | F |   V   |   F   |   V   |   V   |           F          |            V\n",
      " V | V | F | V |   V   |   V   |   V   |   V   |           V          |            V\n",
      " V | V | F | F |   V   |   V   |   V   |   V   |           V          |            V\n",
      " V | F | V | V |   F   |   V   |   V   |   V   |           F          |            V\n",
      " V | F | V | F |   F   |   F   |   V   |   F   |           F          |            V\n",
      " V | F | F | V |   F   |   V   |   V   |   V   |           F          |            V\n",
      " V | F | F | F |   F   |   V   |   V   |   F   |           F          |            V\n",
      " F | V | V | V |   V   |   V   |   V   |   V   |           V          |            V\n",
      " F | V | V | F |   V   |   F   |   V   |   V   |           F          |            V\n",
      " F | V | F | V |   V   |   V   |   F   |   V   |           F          |            V\n",
      " F | V | F | F |   V   |   V   |   F   |   V   |           F          |            V\n",
      " F | F | V | V |   V   |   V   |   V   |   V   |           V          |            V\n",
      " F | F | V | F |   V   |   F   |   V   |   F   |           F          |            V\n",
      " F | F | F | V |   V   |   V   |   F   |   V   |           F          |            V\n",
      " F | F | F | F |   V   |   V   |   F   |   F   |           F          |            V\n"
     ]
    }
   ],
   "source": [
    "print(f\" P | Q | R | S | (𝒑→𝒒) | (𝒓→𝒔) | (𝒑∨𝒓) | (𝒒∨𝒔) | ((𝒑→𝒒)∧(𝒓→𝒔)∧(𝒑∨𝒓)) | ((𝒑→𝒒)∧(𝒓→𝒔)∧(𝒑∨𝒓))→(𝒒∨𝒔)\")\n",
    "n = 0\n",
    "for a in range (0,2,1):\n",
    "    for b in range (0,2,1):\n",
    "        for c in range (0,2,1):\n",
    "            for d in range (0,2,1):\n",
    "                if a==0:\n",
    "                    P = \"V\"\n",
    "                else: \n",
    "                    P = \"F\"\n",
    "                if b==0:\n",
    "                    Q = \"V\"\n",
    "                else:\n",
    "                    Q = \"F\"\n",
    "                if c==0:\n",
    "                    R = \"V\"\n",
    "                else:\n",
    "                    R = \"F\"\n",
    "                if d==0:\n",
    "                    S = \"V\"\n",
    "                else:\n",
    "                    S = \"F\"\n",
    "                if (P==\"V\" and Q==\"V\") or (P==\"F\"):\n",
    "                    PQ=\"V\"\n",
    "                else:\n",
    "                    PQ=\"F\"\n",
    "                if (R==\"V\" and S==\"V\") or (R==\"F\"):\n",
    "                    RS=\"V\"\n",
    "                else:\n",
    "                    RS=\"F\"\n",
    "                if P==\"V\" or R==\"V\":\n",
    "                    PvR = \"V\"\n",
    "                else:\n",
    "                    PvR = \"F\"\n",
    "                if Q==\"V\" or S==\"V\":\n",
    "                    QvS = \"V\"\n",
    "                else:\n",
    "                    QvS = \"F\"\n",
    "                if PQ ==\"V\" and RS ==\"V\" and PvR ==\"V\":\n",
    "                    leftside = \"V\"\n",
    "                else:\n",
    "                    leftside = \"F\"\n",
    "                if leftside ==\"V\" and QvS ==\"V\" or leftside ==\"F\":\n",
    "                    result = \"V\"\n",
    "                else:\n",
    "                    result = \"F\"\n",
    "                if a==0:\n",
    "                    print(f\" {P} | {Q} | {R} | {S} |   {PQ}   |   {RS}   |   {PvR}   |   {QvS}   |           {leftside}          |            {result}\")\n",
    "                else:  \n",
    "                    print(f\" {P} | {Q} | {R} | {S} |   {PQ}   |   {RS}   |   {PvR}   |   {QvS}   |           {leftside}          |            {result}\")"
   ]
  },
  {
   "cell_type": "code",
   "execution_count": null,
   "id": "50e27d20-0272-42aa-90fd-93a84d8d6d35",
   "metadata": {},
   "outputs": [],
   "source": []
  },
  {
   "cell_type": "code",
   "execution_count": 1,
   "id": "ce115ff5-3b93-4302-968d-87be6604d3b8",
   "metadata": {},
   "outputs": [
    {
     "name": "stdin",
     "output_type": "stream",
     "text": [
      "Digite o valor logico de P:  v\n"
     ]
    }
   ],
   "source": [
    "P = str(input(\"Digite o valor logico de P: \"))\n",
    "Q = str(input(\"Digite o valor logico de Q: \"))\n",
    "R = str(input(\"Digite o valor logico de R: \"))\n",
    "S = str(input(\"Digite o valor logico de S: \"))\n"
   ]
  },
  {
   "cell_type": "code",
   "execution_count": null,
   "id": "52398f1f-5bf2-4d2a-865c-a8eec992bed8",
   "metadata": {},
   "outputs": [],
   "source": []
  }
 ],
 "metadata": {
  "kernelspec": {
   "display_name": "Python 3 (ipykernel)",
   "language": "python",
   "name": "python3"
  },
  "language_info": {
   "codemirror_mode": {
    "name": "ipython",
    "version": 3
   },
   "file_extension": ".py",
   "mimetype": "text/x-python",
   "name": "python",
   "nbconvert_exporter": "python",
   "pygments_lexer": "ipython3",
   "version": "3.12.4"
  }
 },
 "nbformat": 4,
 "nbformat_minor": 5
}
